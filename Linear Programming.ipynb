{
 "cells": [
  {
   "cell_type": "markdown",
   "id": "de018352",
   "metadata": {},
   "source": [
    "### Linear Programming - 1"
   ]
  },
  {
   "cell_type": "code",
   "execution_count": 4,
   "id": "4e8c8617",
   "metadata": {},
   "outputs": [],
   "source": [
    "from docplex.mp.model import Model"
   ]
  },
  {
   "cell_type": "code",
   "execution_count": 2,
   "id": "764d7fe0",
   "metadata": {},
   "outputs": [],
   "source": [
    "m = Model(name='Phone production')"
   ]
  },
  {
   "cell_type": "markdown",
   "id": "4f29062f",
   "metadata": {},
   "source": [
    "### Variables"
   ]
  },
  {
   "cell_type": "code",
   "execution_count": 3,
   "id": "0fd8c303",
   "metadata": {},
   "outputs": [],
   "source": [
    "#Phone production variables\n",
    "foldyphone = m.continuous_var(name='foldy phone production')\n",
    "tinyphone = m.continuous_var(name='tiny phone production')"
   ]
  },
  {
   "cell_type": "code",
   "execution_count": 4,
   "id": "a4af376c",
   "metadata": {},
   "outputs": [],
   "source": [
    "#Production time constraints\n",
    "foldyphonetime = 1.5\n",
    "tinyphonetime = 2"
   ]
  },
  {
   "cell_type": "code",
   "execution_count": 5,
   "id": "9e466ae4",
   "metadata": {},
   "outputs": [],
   "source": [
    "foldyphoneprice = 900\n",
    "tinyphoneprice = 1100"
   ]
  },
  {
   "cell_type": "markdown",
   "id": "0116dcc0",
   "metadata": {},
   "source": [
    "### Constraints"
   ]
  },
  {
   "cell_type": "code",
   "execution_count": 6,
   "id": "eb840f91",
   "metadata": {},
   "outputs": [],
   "source": [
    "foldyphoneprod = m.add_constraint(foldyphone >= 500)\n",
    "tinyphoneprod = m.add_constraint(tinyphone >= 200)"
   ]
  },
  {
   "cell_type": "code",
   "execution_count": 7,
   "id": "a04b716b",
   "metadata": {},
   "outputs": [],
   "source": [
    "#Production constraint\n",
    "totalprod = m.add_constraint(m.sum([tinyphone*tinyphonetime, foldyphone*foldyphonetime]) <= 2999.5)"
   ]
  },
  {
   "cell_type": "markdown",
   "id": "d32fab61",
   "metadata": {},
   "source": [
    "### Objectives"
   ]
  },
  {
   "cell_type": "code",
   "execution_count": 8,
   "id": "b2a9ec6d",
   "metadata": {},
   "outputs": [],
   "source": [
    "m.maximize(foldyphone*foldyphoneprice + tinyphone*tinyphoneprice)"
   ]
  },
  {
   "cell_type": "code",
   "execution_count": 10,
   "id": "405396cf",
   "metadata": {},
   "outputs": [],
   "source": [
    "sol = m.solve()"
   ]
  },
  {
   "cell_type": "code",
   "execution_count": 11,
   "id": "e5e6d141",
   "metadata": {},
   "outputs": [
    {
     "name": "stdout",
     "output_type": "stream",
     "text": [
      "solution for: Phone production\n",
      "objective: 1779700.000\n",
      "foldy phone production = 1733.000\n",
      "tiny phone production = 200.000\n"
     ]
    }
   ],
   "source": [
    "sol.display()"
   ]
  },
  {
   "cell_type": "markdown",
   "id": "c9032b50",
   "metadata": {},
   "source": [
    "### Linear Programming - 2"
   ]
  },
  {
   "cell_type": "code",
   "execution_count": 5,
   "id": "5bb879fd",
   "metadata": {},
   "outputs": [],
   "source": [
    "m1 = Model(name='Hot tub Question')"
   ]
  },
  {
   "cell_type": "code",
   "execution_count": 6,
   "id": "93c9cc90",
   "metadata": {},
   "outputs": [],
   "source": [
    "#Variables\n",
    "aqua = m1.continuous_var(name='Number of Aqua-spas')\n",
    "hydro = m1.continuous_var(name='Number of Hydro-spas')"
   ]
  },
  {
   "cell_type": "code",
   "execution_count": 7,
   "id": "8c47d9cd",
   "metadata": {},
   "outputs": [],
   "source": [
    "#constraints\n",
    "pumps = m1.add_constraint(m1.sum([1*aqua,1*hydro]) <= 200)\n",
    "labor = m1.add_constraint(m1.sum([9*aqua,6*hydro]) <= 1566)\n",
    "tubing = m1.add_constraint(m1.sum([12*aqua,16*hydro]) <= 2880)"
   ]
  },
  {
   "cell_type": "code",
   "execution_count": 8,
   "id": "3bf18f0a",
   "metadata": {},
   "outputs": [],
   "source": [
    "#Objectives\n",
    "m1.maximize(350*aqua + 300*hydro)"
   ]
  },
  {
   "cell_type": "code",
   "execution_count": 9,
   "id": "ce4e81a6",
   "metadata": {},
   "outputs": [],
   "source": [
    "sol1 = m1.solve()"
   ]
  },
  {
   "cell_type": "code",
   "execution_count": 10,
   "id": "eabf032f",
   "metadata": {},
   "outputs": [
    {
     "name": "stdout",
     "output_type": "stream",
     "text": [
      "solution for: Hot tub Question\n",
      "objective: 66100.000\n",
      "Number of Aqua-spas = 122.000\n",
      "Number of Hydro-spas = 78.000\n"
     ]
    }
   ],
   "source": [
    "sol1.display()"
   ]
  },
  {
   "cell_type": "markdown",
   "id": "9c74a574",
   "metadata": {},
   "source": [
    "### Linear Programming - 3"
   ]
  },
  {
   "cell_type": "code",
   "execution_count": 11,
   "id": "f0a9b052",
   "metadata": {},
   "outputs": [],
   "source": [
    "m2 = Model(name='Company Advertisement')"
   ]
  },
  {
   "cell_type": "code",
   "execution_count": 12,
   "id": "147653cf",
   "metadata": {},
   "outputs": [],
   "source": [
    "#Variable\n",
    "radio_ads_1 = m2.continuous_var(name='No of ads from Radio ads(1-10)')\n",
    "radio_ads_2 = m2.continuous_var(name='No of ads from Radio ads(11-20)')\n",
    "radio_ads_3 = m2.continuous_var(name='No of ads from Radio ads(21-30)')\n",
    "tv_ads_1 = m2.continuous_var(name='No of ads from TV(1-5)')\n",
    "tv_ads_2 = m2.continuous_var(name='No of ads from TV(6-10)')\n",
    "tv_ads_3 = m2.continuous_var(name='No of ads from TV(11-15)')"
   ]
  },
  {
   "cell_type": "code",
   "execution_count": 13,
   "id": "d0dc956a",
   "metadata": {},
   "outputs": [],
   "source": [
    "#Cost per Ad\n",
    "radio_1_cost = 1000\n",
    "radio_2_cost = 900\n",
    "radio_3_cost = 800\n",
    "tv_1_cost = 12000\n",
    "tv_2_cost = 10000\n",
    "tv_3_cost = 8000"
   ]
  },
  {
   "cell_type": "code",
   "execution_count": 14,
   "id": "e4020db9",
   "metadata": {},
   "outputs": [],
   "source": [
    "#Customers reached\n",
    "radio_1_cust = 900\n",
    "radio_2_cust = 700\n",
    "radio_3_cust = 400\n",
    "tv_1_cust = 10000\n",
    "tv_2_cust = 7500\n",
    "tv_3_cust = 5000"
   ]
  },
  {
   "cell_type": "code",
   "execution_count": 16,
   "id": "8c3388f9",
   "metadata": {},
   "outputs": [],
   "source": [
    "#Constraints\n",
    "radio_1_const = m2.add_constraint(radio_ads_1 <= 10)\n",
    "radio_2_const = m2.add_constraint(radio_ads_2 <= 10)\n",
    "radio_3_const = m2.add_constraint(radio_ads_3 <= 10)\n",
    "tv_1_const = m2.add_constraint(tv_ads_1 <= 5)\n",
    "tv_2_const = m2.add_constraint(tv_ads_2 <= 5)\n",
    "tv_3_const = m2.add_constraint(tv_ads_3 <= 5)\n",
    "total_radio = m2.add_constraint(m2.sum([radio_ads_1, radio_ads_2, radio_ads_3]) <= 30)\n",
    "total_tv = m2.add_constraint(m2.sum([tv_ads_1,tv_ads_2,tv_ads_3]) <= 15)\n",
    "budget = m2.add_constraint(m2.sum([radio_1_cost*radio_ads_1, radio_2_cost*radio_ads_2, radio_3_cost*radio_ads_3, tv_1_cost*tv_ads_1, tv_2_cost*tv_ads_2, tv_3_cost*tv_ads_3]) <= 145000)"
   ]
  },
  {
   "cell_type": "code",
   "execution_count": 18,
   "id": "3615afc2",
   "metadata": {},
   "outputs": [],
   "source": [
    "m2.maximize(m2.sum([radio_1_cust*radio_ads_1, radio_2_cust*radio_ads_2,radio_3_cust*radio_ads_3, tv_1_cust*tv_ads_1, tv_2_cust*tv_ads_2, tv_3_cust*tv_ads_3]))"
   ]
  },
  {
   "cell_type": "code",
   "execution_count": 19,
   "id": "b291c1d4",
   "metadata": {},
   "outputs": [],
   "source": [
    "sol2 = m2.solve()"
   ]
  },
  {
   "cell_type": "code",
   "execution_count": 20,
   "id": "520d36fa",
   "metadata": {},
   "outputs": [
    {
     "name": "stdout",
     "output_type": "stream",
     "text": [
      "solution for: Company Advertisement\n",
      "objective: 113500.000\n",
      "No of ads from Radio ads(1-10) = 10.000\n",
      "No of ads from Radio ads(11-20) = 10.000\n",
      "No of ads from TV(1-5) = 5.000\n",
      "No of ads from TV(6-10) = 5.000\n",
      "No of ads from TV(11-15) = 2.000\n"
     ]
    }
   ],
   "source": [
    "sol2.display()"
   ]
  },
  {
   "cell_type": "code",
   "execution_count": null,
   "id": "93f816ab",
   "metadata": {},
   "outputs": [],
   "source": []
  }
 ],
 "metadata": {
  "kernelspec": {
   "display_name": "Python 3 (ipykernel)",
   "language": "python",
   "name": "python3"
  },
  "language_info": {
   "codemirror_mode": {
    "name": "ipython",
    "version": 3
   },
   "file_extension": ".py",
   "mimetype": "text/x-python",
   "name": "python",
   "nbconvert_exporter": "python",
   "pygments_lexer": "ipython3",
   "version": "3.10.0"
  }
 },
 "nbformat": 4,
 "nbformat_minor": 5
}

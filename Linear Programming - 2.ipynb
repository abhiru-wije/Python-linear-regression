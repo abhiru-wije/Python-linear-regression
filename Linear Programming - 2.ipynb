{
 "cells": [
  {
   "cell_type": "code",
   "execution_count": 1,
   "id": "4e8c8617",
   "metadata": {},
   "outputs": [],
   "source": [
    "from docplex.mp.model import Model"
   ]
  },
  {
   "cell_type": "code",
   "execution_count": 2,
   "id": "5bb879fd",
   "metadata": {},
   "outputs": [],
   "source": [
    "m1 = Model(name='Hot tub Question')"
   ]
  },
  {
   "cell_type": "code",
   "execution_count": 3,
   "id": "93c9cc90",
   "metadata": {},
   "outputs": [],
   "source": [
    "#Variables\n",
    "aqua = m1.continuous_var(name='Number of Aqua-spas')\n",
    "hydro = m1.continuous_var(name='Number of Hydro-spas')"
   ]
  },
  {
   "cell_type": "code",
   "execution_count": 4,
   "id": "8c47d9cd",
   "metadata": {},
   "outputs": [],
   "source": [
    "#constraints\n",
    "pumps = m1.add_constraint(m1.sum([1*aqua,1*hydro]) <= 200)\n",
    "labor = m1.add_constraint(m1.sum([9*aqua,6*hydro]) <= 1566)\n",
    "tubing = m1.add_constraint(m1.sum([12*aqua,16*hydro]) <= 2880)"
   ]
  },
  {
   "cell_type": "code",
   "execution_count": 5,
   "id": "3bf18f0a",
   "metadata": {},
   "outputs": [],
   "source": [
    "#Objectives\n",
    "m1.maximize(350*aqua + 300*hydro)"
   ]
  },
  {
   "cell_type": "code",
   "execution_count": 6,
   "id": "ce4e81a6",
   "metadata": {},
   "outputs": [],
   "source": [
    "sol1 = m1.solve()"
   ]
  },
  {
   "cell_type": "code",
   "execution_count": 8,
   "id": "eabf032f",
   "metadata": {},
   "outputs": [
    {
     "name": "stdout",
     "output_type": "stream",
     "text": [
      "solution for: Hot tub Question\n",
      "objective: 66100.000\n",
      "Number of Aqua-spas = 122.000\n",
      "Number of Hydro-spas = 78.000\n"
     ]
    }
   ],
   "source": [
    "sol1.display()"
   ]
  },
  {
   "cell_type": "code",
   "execution_count": null,
   "id": "89ec296e",
   "metadata": {},
   "outputs": [],
   "source": []
  }
 ],
 "metadata": {
  "kernelspec": {
   "display_name": "Python 3 (ipykernel)",
   "language": "python",
   "name": "python3"
  },
  "language_info": {
   "codemirror_mode": {
    "name": "ipython",
    "version": 3
   },
   "file_extension": ".py",
   "mimetype": "text/x-python",
   "name": "python",
   "nbconvert_exporter": "python",
   "pygments_lexer": "ipython3",
   "version": "3.10.0"
  }
 },
 "nbformat": 4,
 "nbformat_minor": 5
}
